{
 "cells": [
  {
   "cell_type": "code",
   "execution_count": 8,
   "metadata": {},
   "outputs": [],
   "source": [
    "import pandas as pd\n",
    "import pydantic\n",
    "from sql_app import schemas\n",
    "import json"
   ]
  },
  {
   "cell_type": "code",
   "execution_count": null,
   "metadata": {},
   "outputs": [],
   "source": []
  },
  {
   "cell_type": "code",
   "execution_count": 2,
   "metadata": {},
   "outputs": [],
   "source": [
    "df = pd.read_excel('../产品编号.xlsx', index_col=0)"
   ]
  },
  {
   "cell_type": "code",
   "execution_count": 3,
   "metadata": {},
   "outputs": [
    {
     "data": {
      "text/html": [
       "<div>\n",
       "<style scoped>\n",
       "    .dataframe tbody tr th:only-of-type {\n",
       "        vertical-align: middle;\n",
       "    }\n",
       "\n",
       "    .dataframe tbody tr th {\n",
       "        vertical-align: top;\n",
       "    }\n",
       "\n",
       "    .dataframe thead th {\n",
       "        text-align: right;\n",
       "    }\n",
       "</style>\n",
       "<table border=\"1\" class=\"dataframe\">\n",
       "  <thead>\n",
       "    <tr style=\"text-align: right;\">\n",
       "      <th></th>\n",
       "      <th>产品名称</th>\n",
       "      <th>产品编号</th>\n",
       "      <th>老编码</th>\n",
       "      <th>产品类别</th>\n",
       "    </tr>\n",
       "    <tr>\n",
       "      <th>ID</th>\n",
       "      <th></th>\n",
       "      <th></th>\n",
       "      <th></th>\n",
       "      <th></th>\n",
       "    </tr>\n",
       "  </thead>\n",
       "  <tbody>\n",
       "    <tr>\n",
       "      <th>1</th>\n",
       "      <td>MGF</td>\n",
       "      <td>A001</td>\n",
       "      <td>NaN</td>\n",
       "      <td>Peptide</td>\n",
       "    </tr>\n",
       "    <tr>\n",
       "      <th>2</th>\n",
       "      <td>PEG-MGF</td>\n",
       "      <td>A002</td>\n",
       "      <td>NaN</td>\n",
       "      <td>Peptide</td>\n",
       "    </tr>\n",
       "    <tr>\n",
       "      <th>3</th>\n",
       "      <td>CJC-1295 (DAC)</td>\n",
       "      <td>A003</td>\n",
       "      <td>NaN</td>\n",
       "      <td>Peptide</td>\n",
       "    </tr>\n",
       "    <tr>\n",
       "      <th>4</th>\n",
       "      <td>CJC-1295 (with out DAC)</td>\n",
       "      <td>A004</td>\n",
       "      <td>NaN</td>\n",
       "      <td>Peptide</td>\n",
       "    </tr>\n",
       "    <tr>\n",
       "      <th>5</th>\n",
       "      <td>PT-141</td>\n",
       "      <td>A005</td>\n",
       "      <td>NaN</td>\n",
       "      <td>Peptide</td>\n",
       "    </tr>\n",
       "    <tr>\n",
       "      <th>...</th>\n",
       "      <td>...</td>\n",
       "      <td>...</td>\n",
       "      <td>...</td>\n",
       "      <td>...</td>\n",
       "    </tr>\n",
       "    <tr>\n",
       "      <th>64</th>\n",
       "      <td>Thymosin Alpha 1</td>\n",
       "      <td>NaN</td>\n",
       "      <td>NaN</td>\n",
       "      <td>Peptide</td>\n",
       "    </tr>\n",
       "    <tr>\n",
       "      <th>65</th>\n",
       "      <td>Semax</td>\n",
       "      <td>A026</td>\n",
       "      <td>NaN</td>\n",
       "      <td>Peptide</td>\n",
       "    </tr>\n",
       "    <tr>\n",
       "      <th>66</th>\n",
       "      <td>ARA-290</td>\n",
       "      <td>A034-16</td>\n",
       "      <td>NaN</td>\n",
       "      <td>Peptide</td>\n",
       "    </tr>\n",
       "    <tr>\n",
       "      <th>67</th>\n",
       "      <td>Kisspeptin-10</td>\n",
       "      <td>A031</td>\n",
       "      <td>NaN</td>\n",
       "      <td>Peptide</td>\n",
       "    </tr>\n",
       "    <tr>\n",
       "      <th>68</th>\n",
       "      <td>ACE-031</td>\n",
       "      <td>G004</td>\n",
       "      <td>NaN</td>\n",
       "      <td>Peptide</td>\n",
       "    </tr>\n",
       "  </tbody>\n",
       "</table>\n",
       "<p>64 rows × 4 columns</p>\n",
       "</div>"
      ],
      "text/plain": [
       "                       产品名称     产品编号  老编码     产品类别\n",
       "ID                                                \n",
       "1                       MGF     A001  NaN  Peptide\n",
       "2                   PEG-MGF     A002  NaN  Peptide\n",
       "3          CJC-1295 (DAC)       A003  NaN  Peptide\n",
       "4   CJC-1295 (with out DAC)     A004  NaN  Peptide\n",
       "5                    PT-141     A005  NaN  Peptide\n",
       "..                      ...      ...  ...      ...\n",
       "64         Thymosin Alpha 1      NaN  NaN  Peptide\n",
       "65                    Semax     A026  NaN  Peptide\n",
       "66                  ARA-290  A034-16  NaN  Peptide\n",
       "67            Kisspeptin-10     A031  NaN  Peptide\n",
       "68                  ACE-031     G004  NaN  Peptide\n",
       "\n",
       "[64 rows x 4 columns]"
      ]
     },
     "execution_count": 3,
     "metadata": {},
     "output_type": "execute_result"
    }
   ],
   "source": [
    "df"
   ]
  },
  {
   "cell_type": "code",
   "execution_count": 4,
   "metadata": {},
   "outputs": [
    {
     "data": {
      "text/html": [
       "<div>\n",
       "<style scoped>\n",
       "    .dataframe tbody tr th:only-of-type {\n",
       "        vertical-align: middle;\n",
       "    }\n",
       "\n",
       "    .dataframe tbody tr th {\n",
       "        vertical-align: top;\n",
       "    }\n",
       "\n",
       "    .dataframe thead th {\n",
       "        text-align: right;\n",
       "    }\n",
       "</style>\n",
       "<table border=\"1\" class=\"dataframe\">\n",
       "  <thead>\n",
       "    <tr style=\"text-align: right;\">\n",
       "      <th></th>\n",
       "      <th>产品名称</th>\n",
       "      <th>产品编号</th>\n",
       "      <th>老编码</th>\n",
       "      <th>产品类别</th>\n",
       "    </tr>\n",
       "    <tr>\n",
       "      <th>ID</th>\n",
       "      <th></th>\n",
       "      <th></th>\n",
       "      <th></th>\n",
       "      <th></th>\n",
       "    </tr>\n",
       "  </thead>\n",
       "  <tbody>\n",
       "    <tr>\n",
       "      <th>1</th>\n",
       "      <td>MGF</td>\n",
       "      <td>A001</td>\n",
       "      <td>NaN</td>\n",
       "      <td>Peptide</td>\n",
       "    </tr>\n",
       "    <tr>\n",
       "      <th>2</th>\n",
       "      <td>PEG-MGF</td>\n",
       "      <td>A002</td>\n",
       "      <td>NaN</td>\n",
       "      <td>Peptide</td>\n",
       "    </tr>\n",
       "    <tr>\n",
       "      <th>3</th>\n",
       "      <td>CJC-1295 (DAC)</td>\n",
       "      <td>A003</td>\n",
       "      <td>NaN</td>\n",
       "      <td>Peptide</td>\n",
       "    </tr>\n",
       "    <tr>\n",
       "      <th>4</th>\n",
       "      <td>CJC-1295 (with out DAC)</td>\n",
       "      <td>A004</td>\n",
       "      <td>NaN</td>\n",
       "      <td>Peptide</td>\n",
       "    </tr>\n",
       "    <tr>\n",
       "      <th>5</th>\n",
       "      <td>PT-141</td>\n",
       "      <td>A005</td>\n",
       "      <td>NaN</td>\n",
       "      <td>Peptide</td>\n",
       "    </tr>\n",
       "    <tr>\n",
       "      <th>...</th>\n",
       "      <td>...</td>\n",
       "      <td>...</td>\n",
       "      <td>...</td>\n",
       "      <td>...</td>\n",
       "    </tr>\n",
       "    <tr>\n",
       "      <th>64</th>\n",
       "      <td>Thymosin Alpha 1</td>\n",
       "      <td>NaN</td>\n",
       "      <td>NaN</td>\n",
       "      <td>Peptide</td>\n",
       "    </tr>\n",
       "    <tr>\n",
       "      <th>65</th>\n",
       "      <td>Semax</td>\n",
       "      <td>A026</td>\n",
       "      <td>NaN</td>\n",
       "      <td>Peptide</td>\n",
       "    </tr>\n",
       "    <tr>\n",
       "      <th>66</th>\n",
       "      <td>ARA-290</td>\n",
       "      <td>A034-16</td>\n",
       "      <td>NaN</td>\n",
       "      <td>Peptide</td>\n",
       "    </tr>\n",
       "    <tr>\n",
       "      <th>67</th>\n",
       "      <td>Kisspeptin-10</td>\n",
       "      <td>A031</td>\n",
       "      <td>NaN</td>\n",
       "      <td>Peptide</td>\n",
       "    </tr>\n",
       "    <tr>\n",
       "      <th>68</th>\n",
       "      <td>ACE-031</td>\n",
       "      <td>G004</td>\n",
       "      <td>NaN</td>\n",
       "      <td>Peptide</td>\n",
       "    </tr>\n",
       "  </tbody>\n",
       "</table>\n",
       "<p>64 rows × 4 columns</p>\n",
       "</div>"
      ],
      "text/plain": [
       "                       产品名称     产品编号  老编码     产品类别\n",
       "ID                                                \n",
       "1                       MGF     A001  NaN  Peptide\n",
       "2                   PEG-MGF     A002  NaN  Peptide\n",
       "3          CJC-1295 (DAC)       A003  NaN  Peptide\n",
       "4   CJC-1295 (with out DAC)     A004  NaN  Peptide\n",
       "5                    PT-141     A005  NaN  Peptide\n",
       "..                      ...      ...  ...      ...\n",
       "64         Thymosin Alpha 1      NaN  NaN  Peptide\n",
       "65                    Semax     A026  NaN  Peptide\n",
       "66                  ARA-290  A034-16  NaN  Peptide\n",
       "67            Kisspeptin-10     A031  NaN  Peptide\n",
       "68                  ACE-031     G004  NaN  Peptide\n",
       "\n",
       "[64 rows x 4 columns]"
      ]
     },
     "execution_count": 4,
     "metadata": {},
     "output_type": "execute_result"
    }
   ],
   "source": [
    "df.rename(columns={'老编码(Steroids)':\"老编码\"})"
   ]
  },
  {
   "cell_type": "code",
   "execution_count": 5,
   "metadata": {},
   "outputs": [
    {
     "data": {
      "text/plain": [
       "产品名称        MGF\n",
       "产品编号       A001\n",
       "老编码         NaN\n",
       "产品类别    Peptide\n",
       "Name: 1, dtype: object"
      ]
     },
     "execution_count": 5,
     "metadata": {},
     "output_type": "execute_result"
    }
   ],
   "source": [
    "df.loc[1]\n",
    "    "
   ]
  },
  {
   "cell_type": "code",
   "execution_count": 7,
   "metadata": {},
   "outputs": [],
   "source": [
    "a=df.loc[1].to_json(force_ascii=False)\n"
   ]
  },
  {
   "cell_type": "code",
   "execution_count": 10,
   "metadata": {},
   "outputs": [],
   "source": [
    "b = json.loads(a)\n",
    "b['产品编号']"
   ]
  },
  {
   "cell_type": "code",
   "execution_count": 17,
   "metadata": {},
   "outputs": [
    {
     "name": "stdout",
     "output_type": "stream",
     "text": [
      "dict_keys(['产品名称', '产品编号', '老编码', '产品类别'])\n"
     ]
    },
    {
     "data": {
      "text/plain": [
       "dict"
      ]
     },
     "execution_count": 17,
     "metadata": {},
     "output_type": "execute_result"
    }
   ],
   "source": [
    "print(b.keys())\n",
    "type(b)"
   ]
  },
  {
   "cell_type": "code",
   "execution_count": 14,
   "metadata": {},
   "outputs": [
    {
     "data": {
      "text/plain": [
       "'A001'"
      ]
     },
     "execution_count": 14,
     "metadata": {},
     "output_type": "execute_result"
    }
   ],
   "source": [
    "df.loc[1].产品编号"
   ]
  }
 ],
 "metadata": {
  "kernelspec": {
   "display_name": "base",
   "language": "python",
   "name": "python3"
  },
  "language_info": {
   "codemirror_mode": {
    "name": "ipython",
    "version": 3
   },
   "file_extension": ".py",
   "mimetype": "text/x-python",
   "name": "python",
   "nbconvert_exporter": "python",
   "pygments_lexer": "ipython3",
   "version": "3.12.1"
  }
 },
 "nbformat": 4,
 "nbformat_minor": 2
}
