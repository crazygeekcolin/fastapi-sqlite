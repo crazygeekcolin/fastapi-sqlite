{
 "cells": [
  {
   "cell_type": "code",
   "execution_count": 159,
   "metadata": {},
   "outputs": [],
   "source": [
    "from database import SessionLocal, engine\n",
    "from sqlalchemy import text, select\n",
    "#import models, schemas\n",
    "from models import *\n",
    "import pandas as pd\n",
    "import json"
   ]
  },
  {
   "cell_type": "code",
   "execution_count": 160,
   "metadata": {},
   "outputs": [],
   "source": [
    "db= SessionLocal()"
   ]
  },
  {
   "cell_type": "code",
   "execution_count": 167,
   "metadata": {},
   "outputs": [],
   "source": [
    "stmt = select(Products.产品名称)"
   ]
  },
  {
   "cell_type": "code",
   "execution_count": 162,
   "metadata": {},
   "outputs": [],
   "source": [
    "stmt = select(ProductsCost.产品编号, ProductsCost.产品规格, ProductsCost.成本, Products.产品名称).join(Products)\n"
   ]
  },
  {
   "cell_type": "code",
   "execution_count": 163,
   "metadata": {},
   "outputs": [],
   "source": [
    "stmt = select(Products.产品编号\n",
    "              , Products.产品名称\n",
    "              , Products.产品类别\n",
    "              , Products.产品编号_母表).join(ProductsCost).filter(Products.产品名称 == 'Sermorelin\\xa0(GRF1-29)')\n"
   ]
  },
  {
   "cell_type": "code",
   "execution_count": 171,
   "metadata": {},
   "outputs": [],
   "source": [
    "result = db.execute(stmt).all()"
   ]
  },
  {
   "cell_type": "code",
   "execution_count": 172,
   "metadata": {},
   "outputs": [
    {
     "data": {
      "text/plain": [
       "67"
      ]
     },
     "execution_count": 172,
     "metadata": {},
     "output_type": "execute_result"
    }
   ],
   "source": [
    "len(result)"
   ]
  },
  {
   "cell_type": "code",
   "execution_count": 174,
   "metadata": {},
   "outputs": [],
   "source": [
    "def strip_series(series):\n",
    "    ###Loop over items of pandas series and move their blank space in head and tail\n",
    "    for i in range(len(series)):\n",
    "        if type(series.iloc[i]) == str:\n",
    "            series.iloc[i] = series.iloc[i].strip()"
   ]
  },
  {
   "cell_type": "code",
   "execution_count": 175,
   "metadata": {},
   "outputs": [
    {
     "name": "stdout",
     "output_type": "stream",
     "text": [
      "bpc157\n",
      "BPC-157\n",
      "BPC-157\n",
      "MGF\n",
      "PEG-MGF\n",
      "CJC-1295 (DAC)  \n",
      "CJC-1295 (with out DAC)\n",
      "PT-141\n",
      "MT-II (Melanotan II )\n",
      "GHRP-2\n",
      "GHRP-6\n",
      "Ipamorelin\n",
      "Sermorelin (GRF1-29)\n",
      "Oxytocin\n",
      "Thymosin Beta 4 (TB500)\n",
      "BPC-157\n",
      "HGH Frag (176-191)\n",
      "Tesamorelin\n",
      "Gonadorelin\n",
      "DSIP\n",
      "Selank\n",
      "AOD 9604\n",
      "Adipotide/Fttp\n",
      "Epithalon\n",
      "MOTS-C\n",
      "Semaglutide\n",
      "Tirzepatide\n",
      "IGF-1LR3\n",
      "HGH GMP\n",
      "Follistatin 344\n",
      "GDF-8 (95%)\n",
      "HCG\n",
      "HGH pharm\n",
      "HMG\n",
      "IGF-1DES\n",
      "Testosterone Enanthate\n",
      "Testosterone Cypionate\n",
      "Testosterone Propionate\n",
      "Boldenone Undecylenate\n",
      "Sustanon 250\n",
      "Trenbolone Acetate\n",
      "Trenbolone Enanthate\n",
      "Methandrostenolone/Dianabol\n",
      "Nandrolone Decanoate (DECA)\n",
      "Nandrolone Phenylpropionate\n",
      "Drostanolone Enanthate\n",
      "Drostanolone propionate (Masteron)\n",
      "Oxymetholone (Anadrol)\n",
      "Oxandrolone (Anavar)\n",
      "Stanozolol (Winstrol)\n",
      "Methenolone Enanthate\n",
      "Methenolone Acetate\n",
      "Mesterolone\n",
      "Trenbolone Hexahydrobenzylcarbonate\n",
      "Tada\n",
      "Turinabol\n",
      "Arimidex/Anastrozole\n",
      "预付款或补款，不发货\n",
      "None\n",
      "退件重发\n",
      "NAD+\n",
      "GHK-CU\n",
      "Thymosin Alpha 1\n",
      "Semax\n",
      "ARA-290\n",
      "Kisspeptin-10\n",
      "ACE-031\n"
     ]
    }
   ],
   "source": [
    "for i in result:\n",
    "    print(i[0])"
   ]
  },
  {
   "cell_type": "markdown",
   "metadata": {},
   "source": []
  },
  {
   "cell_type": "code",
   "execution_count": null,
   "metadata": {},
   "outputs": [],
   "source": []
  }
 ],
 "metadata": {
  "kernelspec": {
   "display_name": "base",
   "language": "python",
   "name": "python3"
  },
  "language_info": {
   "codemirror_mode": {
    "name": "ipython",
    "version": 3
   },
   "file_extension": ".py",
   "mimetype": "text/x-python",
   "name": "python",
   "nbconvert_exporter": "python",
   "pygments_lexer": "ipython3",
   "version": "3.12.1"
  }
 },
 "nbformat": 4,
 "nbformat_minor": 2
}
