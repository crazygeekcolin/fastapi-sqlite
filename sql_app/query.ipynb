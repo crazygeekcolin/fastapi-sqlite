{
 "cells": [
  {
   "cell_type": "code",
   "execution_count": 5,
   "metadata": {},
   "outputs": [],
   "source": [
    "from database import SessionLocal, engine\n",
    "from sqlalchemy import text, select\n",
    "#import models, schemas\n",
    "from models import *\n",
    "import pandas as pd\n",
    "import json\n",
    "from datetime import date"
   ]
  },
  {
   "cell_type": "code",
   "execution_count": null,
   "metadata": {},
   "outputs": [],
   "source": []
  },
  {
   "cell_type": "code",
   "execution_count": 6,
   "metadata": {},
   "outputs": [],
   "source": [
    "db= SessionLocal()"
   ]
  },
  {
   "cell_type": "code",
   "execution_count": 7,
   "metadata": {},
   "outputs": [
    {
     "data": {
      "text/plain": [
       "sqlalchemy.engine.row.Row"
      ]
     },
     "execution_count": 7,
     "metadata": {},
     "output_type": "execute_result"
    }
   ],
   "source": [
    "type(db.query(User.name).filter(User.name == 'test').first())"
   ]
  },
  {
   "cell_type": "code",
   "execution_count": 8,
   "metadata": {},
   "outputs": [
    {
     "data": {
      "text/plain": [
       "('test',)"
      ]
     },
     "execution_count": 8,
     "metadata": {},
     "output_type": "execute_result"
    }
   ],
   "source": [
    "db.query(User.name).filter(User.name == 'test').first()"
   ]
  },
  {
   "cell_type": "code",
   "execution_count": 9,
   "metadata": {},
   "outputs": [
    {
     "name": "stdout",
     "output_type": "stream",
     "text": [
      "'User' object is not subscriptable\n"
     ]
    }
   ],
   "source": [
    "try:\n",
    "    a = db.query(User).filter(User.name == 'test').first()[0]\n",
    "except TypeError as e:\n",
    "    print(e)\n"
   ]
  },
  {
   "cell_type": "code",
   "execution_count": 10,
   "metadata": {},
   "outputs": [
    {
     "data": {
      "text/plain": [
       "\" def get_user1(username:str, db):\\n    try:\\n        db.query(User.name).filter(User.name == username).first()[0]\\n        user = db.query(User).filter(User.name ==username).first()\\n        return user\\n    except TypeError as e:\\n        print(e)\\n        print('User name or password invalid') \""
      ]
     },
     "execution_count": 10,
     "metadata": {},
     "output_type": "execute_result"
    }
   ],
   "source": [
    "\"\"\" def get_user1(username:str, db):\n",
    "    try:\n",
    "        db.query(User.name).filter(User.name == username).first()[0]\n",
    "        user = db.query(User).filter(User.name ==username).first()\n",
    "        return user\n",
    "    except TypeError as e:\n",
    "        print(e)\n",
    "        print('User name or password invalid') \"\"\"\n",
    "    "
   ]
  },
  {
   "cell_type": "code",
   "execution_count": 9,
   "metadata": {},
   "outputs": [],
   "source": [
    "user_list = []\n",
    "for i in db.query(User).all():\n",
    "    user_list.append(i.name)\n",
    "user_list"
   ]
  },
  {
   "cell_type": "code",
   "execution_count": 24,
   "metadata": {},
   "outputs": [
    {
     "data": {
      "text/plain": [
       "'            else:\\n               return False '"
      ]
     },
     "execution_count": 24,
     "metadata": {},
     "output_type": "execute_result"
    }
   ],
   "source": [
    "def get_user(username:str, db = SessionLocal()):\n",
    "       user_list = []\n",
    "       for i in db.query(User).all():\n",
    "           user_list.append(i.name)\n",
    "           if username in user_list:\n",
    "               #user: models.User | None = db.query(models.User).filter(models.User.name ==username).first()\n",
    "               user = db.query(User).filter(User.name ==username).first()\n",
    "                #Make a copy so when query next time, the Python is working. If not will raise Error!\n",
    "               user_dict= user.__dict__.copy()\n",
    "               return user_dict\n",
    "\"\"\"            else:\n",
    "               return False \"\"\""
   ]
  },
  {
   "cell_type": "code",
   "execution_count": 25,
   "metadata": {},
   "outputs": [],
   "source": [
    "get_user('dsh')"
   ]
  },
  {
   "cell_type": "code",
   "execution_count": null,
   "metadata": {},
   "outputs": [],
   "source": []
  },
  {
   "cell_type": "code",
   "execution_count": 15,
   "metadata": {},
   "outputs": [],
   "source": [
    "def get_user1(username:str, db=db):\n",
    "    user_list = []\n",
    "    for i in db.query(User).all():\n",
    "        user_list.append(i.name)\n",
    "        if username in user_list:\n",
    "            user = db.query(User).filter(User.name ==username).first()\n",
    "            return user\n",
    "\n",
    "    \n",
    "    "
   ]
  },
  {
   "cell_type": "code",
   "execution_count": 17,
   "metadata": {},
   "outputs": [],
   "source": [
    "user = get_user1(username= 'test', db=db)\n",
    "user_dict= user.__dict__.copy()"
   ]
  },
  {
   "cell_type": "code",
   "execution_count": 29,
   "metadata": {},
   "outputs": [
    {
     "data": {
      "text/plain": [
       "<sqlalchemy.orm.state.InstanceState at 0x1ad03b68a70>"
      ]
     },
     "execution_count": 29,
     "metadata": {},
     "output_type": "execute_result"
    }
   ],
   "source": [
    "user_dict.pop('_sa_instance_state')"
   ]
  },
  {
   "cell_type": "code",
   "execution_count": 30,
   "metadata": {},
   "outputs": [
    {
     "data": {
      "text/plain": [
       "{'id': 1,\n",
       " 'hashed_password': b'$2b$12$YOXjW280QkY1vbZugWxYe.EH65ClG3/E7RNpH/NYPOMu25j4tONIq',\n",
       " 'name': 'test',\n",
       " 'type': None,\n",
       " 'is_active': True}"
      ]
     },
     "execution_count": 30,
     "metadata": {},
     "output_type": "execute_result"
    }
   ],
   "source": [
    "user_dict"
   ]
  },
  {
   "cell_type": "code",
   "execution_count": 19,
   "metadata": {},
   "outputs": [
    {
     "data": {
      "text/plain": [
       "b'$2b$12$YOXjW280QkY1vbZugWxYe.EH65ClG3/E7RNpH/NYPOMu25j4tONIq'"
      ]
     },
     "execution_count": 19,
     "metadata": {},
     "output_type": "execute_result"
    }
   ],
   "source": [
    "user_dict.get('hashed_password')"
   ]
  },
  {
   "cell_type": "code",
   "execution_count": 36,
   "metadata": {},
   "outputs": [
    {
     "data": {
      "text/plain": [
       "b'$2b$12$YOXjW280QkY1vbZugWxYe.EH65ClG3/E7RNpH/NYPOMu25j4tONIq'"
      ]
     },
     "execution_count": 36,
     "metadata": {},
     "output_type": "execute_result"
    }
   ],
   "source": [
    "User(name = user_dict['name'],hashed_password = user_dict['hashed_password']).hashed_password\n"
   ]
  },
  {
   "cell_type": "code",
   "execution_count": 16,
   "metadata": {},
   "outputs": [],
   "source": [
    "text = '141'"
   ]
  },
  {
   "cell_type": "code",
   "execution_count": 17,
   "metadata": {},
   "outputs": [],
   "source": [
    "stmt = select(Products).filter(Products.产品名称.like(f'%{text}%'))"
   ]
  },
  {
   "cell_type": "code",
   "execution_count": 18,
   "metadata": {},
   "outputs": [],
   "source": [
    "stmt = select(ProductsCost.产品编号, ProductsCost.产品规格, ProductsCost.成本, Products.产品名称).join(Products)\n"
   ]
  },
  {
   "cell_type": "code",
   "execution_count": 19,
   "metadata": {},
   "outputs": [],
   "source": [
    "stmt = select(Products.产品编号\n",
    "              , Products.产品名称\n",
    "              , Products.产品类别\n",
    "              , #Products.产品成本记录).join(ProductsCost).filter(Products.产品名称 == 'Sermorelin\\xa0(GRF1-29)')\n",
    "              Products.产品成本记录).join(ProductsCost).filter(Products.产品名称.like('A'))\n"
   ]
  },
  {
   "cell_type": "code",
   "execution_count": null,
   "metadata": {},
   "outputs": [
    {
     "name": "stdout",
     "output_type": "stream",
     "text": [
      "{'_sa_instance_state': <sqlalchemy.orm.state.InstanceState object at 0x000002A3E8EBEE70>, 'id': 1, 'hashed_password': b'$2b$12$rm8qu8.0A1s.3WVPKt6mjuJcXalzFM/JKFlwY6ZS8QvRifMnHa5/C', 'name': 'colin', 'type': None, 'is_active': True}\n"
     ]
    }
   ],
   "source": [
    "for i in result:\n",
    "    print(i.__dict__)"
   ]
  },
  {
   "cell_type": "code",
   "execution_count": null,
   "metadata": {},
   "outputs": [],
   "source": [
    "result = db.execute(stmt).all()"
   ]
  },
  {
   "cell_type": "code",
   "execution_count": null,
   "metadata": {},
   "outputs": [
    {
     "data": {
      "text/plain": [
       "1"
      ]
     },
     "execution_count": 6,
     "metadata": {},
     "output_type": "execute_result"
    }
   ],
   "source": [
    "len(result)"
   ]
  },
  {
   "cell_type": "code",
   "execution_count": null,
   "metadata": {},
   "outputs": [
    {
     "name": "stdout",
     "output_type": "stream",
     "text": [
      "<models.Products object at 0x00000286A63DAA50> (<models.Products object at 0x00000286A63DAA50>,)\n"
     ]
    }
   ],
   "source": [
    "for i in result:\n",
    "    print(i[0],i)"
   ]
  },
  {
   "cell_type": "code",
   "execution_count": null,
   "metadata": {},
   "outputs": [],
   "source": [
    "def strip_series(series):\n",
    "    ###Loop over items of pandas series and move their blank space in head and tail\n",
    "    for i in range(len(series)):\n",
    "        if type(series.iloc[i]) == str:\n",
    "            series.iloc[i] = series.iloc[i].strip()"
   ]
  },
  {
   "cell_type": "code",
   "execution_count": null,
   "metadata": {},
   "outputs": [
    {
     "name": "stdout",
     "output_type": "stream",
     "text": [
      "A012 ('A012', 'Sermorelin\\xa0(GRF1-29)', 'Peptide', True)\n",
      "A012 ('A012', 'Sermorelin\\xa0(GRF1-29)', 'Peptide', True)\n",
      "A012 ('A012', 'Sermorelin\\xa0(GRF1-29)', 'Peptide', True)\n",
      "A012 ('A012', 'Sermorelin\\xa0(GRF1-29)', 'Peptide', True)\n"
     ]
    }
   ],
   "source": [
    "for i in result:\n",
    "    print(i[0],i)"
   ]
  },
  {
   "cell_type": "markdown",
   "metadata": {},
   "source": []
  },
  {
   "cell_type": "code",
   "execution_count": null,
   "metadata": {},
   "outputs": [],
   "source": []
  }
 ],
 "metadata": {
  "kernelspec": {
   "display_name": "base",
   "language": "python",
   "name": "python3"
  },
  "language_info": {
   "codemirror_mode": {
    "name": "ipython",
    "version": 3
   },
   "file_extension": ".py",
   "mimetype": "text/x-python",
   "name": "python",
   "nbconvert_exporter": "python",
   "pygments_lexer": "ipython3",
   "version": "3.12.1"
  }
 },
 "nbformat": 4,
 "nbformat_minor": 2
}
