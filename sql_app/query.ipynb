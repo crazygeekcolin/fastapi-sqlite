{
 "cells": [
  {
   "cell_type": "code",
   "execution_count": 1,
   "metadata": {},
   "outputs": [],
   "source": [
    "from database import SessionLocal, engine\n",
    "from sqlalchemy import text, select\n",
    "#import models, schemas\n",
    "from models import *\n",
    "import pandas as pd\n",
    "import json"
   ]
  },
  {
   "cell_type": "code",
   "execution_count": 2,
   "metadata": {},
   "outputs": [],
   "source": [
    "db= SessionLocal()"
   ]
  },
  {
   "cell_type": "code",
   "execution_count": 3,
   "metadata": {},
   "outputs": [],
   "source": [
    "text = '141'"
   ]
  },
  {
   "cell_type": "code",
   "execution_count": 4,
   "metadata": {},
   "outputs": [],
   "source": [
    "stmt = select(Products).filter(Products.产品名称.like(f'%{text}%'))"
   ]
  },
  {
   "cell_type": "code",
   "execution_count": 4,
   "metadata": {},
   "outputs": [],
   "source": [
    "stmt = select(ProductsCost.产品编号, ProductsCost.产品规格, ProductsCost.成本, Products.产品名称).join(Products)\n"
   ]
  },
  {
   "cell_type": "code",
   "execution_count": 51,
   "metadata": {},
   "outputs": [],
   "source": [
    "stmt = select(Products.产品编号\n",
    "              , Products.产品名称\n",
    "              , Products.产品类别\n",
    "              , #Products.产品成本记录).join(ProductsCost).filter(Products.产品名称 == 'Sermorelin\\xa0(GRF1-29)')\n",
    "              Products.产品成本记录).join(ProductsCost).filter(Products.产品名称.like('A'))\n"
   ]
  },
  {
   "cell_type": "code",
   "execution_count": 11,
   "metadata": {},
   "outputs": [],
   "source": [
    "result= db.query(ProductsCost).all()"
   ]
  },
  {
   "cell_type": "code",
   "execution_count": 17,
   "metadata": {},
   "outputs": [
    {
     "name": "stdout",
     "output_type": "stream",
     "text": [
      "{'_sa_instance_state': <sqlalchemy.orm.state.InstanceState object at 0x00000286A6428CB0>, 'id': 1, '成本': Decimal('0E-10'), '产品编号': 'string', '产品规格': 'string', 'update': datetime.datetime(2024, 3, 28, 7, 11, 35), '产品编号_子表': None}\n",
      "{'_sa_instance_state': <sqlalchemy.orm.state.InstanceState object at 0x00000286A6428EF0>, 'id': 2, '成本': Decimal('20.0000000000'), '产品编号': 'A015', '产品规格': '5mg', 'update': datetime.datetime(2024, 3, 28, 7, 47, 55), '产品编号_子表': <models.Products object at 0x00000286A642F320>}\n",
      "{'_sa_instance_state': <sqlalchemy.orm.state.InstanceState object at 0x00000286A6428E30>, 'id': 3, '成本': Decimal('60.0000000000'), '产品编号': 'G007', '产品规格': '500mg', 'update': datetime.datetime(2024, 4, 5, 7, 47, 15), '产品编号_子表': <models.Products object at 0x00000286A642EA20>}\n",
      "{'_sa_instance_state': <sqlalchemy.orm.state.InstanceState object at 0x00000286A64294F0>, 'id': 4, '成本': Decimal('25.0000000000'), '产品编号': 'G007', '产品规格': '250mg', 'update': datetime.datetime(2024, 4, 5, 7, 47, 15), '产品编号_子表': <models.Products object at 0x00000286A642EA20>}\n",
      "{'_sa_instance_state': <sqlalchemy.orm.state.InstanceState object at 0x00000286A6429550>, 'id': 5, '成本': Decimal('24.0000000000'), '产品编号': 'G007', '产品规格': '200mg', 'update': datetime.datetime(2024, 4, 5, 7, 47, 15), '产品编号_子表': <models.Products object at 0x00000286A642EA20>}\n",
      "{'_sa_instance_state': <sqlalchemy.orm.state.InstanceState object at 0x00000286A64295B0>, 'id': 6, '成本': Decimal('12.0000000000'), '产品编号': 'G007', '产品规格': '100mg', 'update': datetime.datetime(2024, 4, 5, 7, 47, 15), '产品编号_子表': <models.Products object at 0x00000286A642EA20>}\n",
      "{'_sa_instance_state': <sqlalchemy.orm.state.InstanceState object at 0x00000286A6429610>, 'id': 7, '成本': Decimal('45.0000000000'), '产品编号': 'F003', '产品规格': '5mg', 'update': datetime.datetime(2024, 4, 5, 7, 47, 15), '产品编号_子表': <models.Products object at 0x00000286A642DEB0>}\n",
      "{'_sa_instance_state': <sqlalchemy.orm.state.InstanceState object at 0x00000286A6429670>, 'id': 8, '成本': Decimal('30.0000000000'), '产品编号': 'A003', '产品规格': '2mg', 'update': datetime.datetime(2024, 4, 5, 7, 47, 15), '产品编号_子表': <models.Products object at 0x00000286A642F2F0>}\n",
      "{'_sa_instance_state': <sqlalchemy.orm.state.InstanceState object at 0x00000286A64296D0>, 'id': 9, '成本': Decimal('13.0000000000'), '产品编号': 'A004', '产品规格': '2mg', 'update': datetime.datetime(2024, 4, 5, 7, 47, 15), '产品编号_子表': <models.Products object at 0x00000286A642F380>}\n",
      "{'_sa_instance_state': <sqlalchemy.orm.state.InstanceState object at 0x00000286A6429730>, 'id': 10, '成本': Decimal('16.0000000000'), '产品编号': 'A007', '产品规格': '10mg', 'update': datetime.datetime(2024, 4, 5, 7, 47, 15), '产品编号_子表': <models.Products object at 0x00000286A642E9C0>}\n",
      "{'_sa_instance_state': <sqlalchemy.orm.state.InstanceState object at 0x00000286A6429790>, 'id': 11, '成本': Decimal('5.0000000000'), '产品编号': 'A010', '产品规格': '2mg', 'update': datetime.datetime(2024, 4, 5, 7, 47, 15), '产品编号_子表': <models.Products object at 0x00000286A642CE00>}\n",
      "{'_sa_instance_state': <sqlalchemy.orm.state.InstanceState object at 0x00000286A64297F0>, 'id': 12, '成本': Decimal('13.0000000000'), '产品编号': 'A012', '产品规格': '2mg', 'update': datetime.datetime(2024, 4, 5, 7, 47, 15), '产品编号_子表': <models.Products object at 0x00000286A642F050>}\n",
      "{'_sa_instance_state': <sqlalchemy.orm.state.InstanceState object at 0x00000286A6429850>, 'id': 13, '成本': Decimal('45.0000000000'), '产品编号': 'A024', '产品规格': '5mg', 'update': datetime.datetime(2024, 4, 5, 7, 47, 15), '产品编号_子表': <models.Products object at 0x00000286A642C0E0>}\n",
      "{'_sa_instance_state': <sqlalchemy.orm.state.InstanceState object at 0x00000286A64298B0>, 'id': 14, '成本': Decimal('15.0000000000'), '产品编号': 'C010', '产品规格': '10mg', 'update': datetime.datetime(2024, 4, 5, 7, 47, 15), '产品编号_子表': <models.Products object at 0x00000286A642ECF0>}\n",
      "{'_sa_instance_state': <sqlalchemy.orm.state.InstanceState object at 0x00000286A6429910>, 'id': 15, '成本': Decimal('20.0000000000'), '产品编号': 'A024', '产品规格': '2mg', 'update': datetime.datetime(2024, 4, 5, 7, 47, 15), '产品编号_子表': <models.Products object at 0x00000286A642C0E0>}\n",
      "{'_sa_instance_state': <sqlalchemy.orm.state.InstanceState object at 0x00000286A6429970>, 'id': 16, '成本': Decimal('13.0000000000'), '产品编号': 'A015', '产品规格': '5mg', 'update': datetime.datetime(2024, 4, 5, 7, 47, 15), '产品编号_子表': <models.Products object at 0x00000286A642F320>}\n",
      "{'_sa_instance_state': <sqlalchemy.orm.state.InstanceState object at 0x00000286A64299D0>, 'id': 17, '成本': Decimal('30.0000000000'), '产品编号': 'A004', '产品规格': '5mg', 'update': datetime.datetime(2024, 4, 5, 7, 47, 15), '产品编号_子表': <models.Products object at 0x00000286A642F380>}\n",
      "{'_sa_instance_state': <sqlalchemy.orm.state.InstanceState object at 0x00000286A6429A30>, 'id': 18, '成本': Decimal('10.0000000000'), '产品编号': 'A021', '产品规格': '5mg', 'update': datetime.datetime(2024, 4, 5, 7, 47, 15), '产品编号_子表': <models.Products object at 0x00000286A6440200>}\n",
      "{'_sa_instance_state': <sqlalchemy.orm.state.InstanceState object at 0x00000286A6429A90>, 'id': 19, '成本': Decimal('11.0000000000'), '产品编号': 'B024', '产品规格': '10mg', 'update': datetime.datetime(2024, 4, 5, 7, 47, 15), '产品编号_子表': <models.Products object at 0x00000286A6440410>}\n",
      "{'_sa_instance_state': <sqlalchemy.orm.state.InstanceState object at 0x00000286A6429BB0>, 'id': 20, '成本': Decimal('55.0000000000'), '产品编号': 'B024', '产品规格': '50mg', 'update': datetime.datetime(2024, 4, 5, 7, 47, 15), '产品编号_子表': <models.Products object at 0x00000286A6440410>}\n",
      "{'_sa_instance_state': <sqlalchemy.orm.state.InstanceState object at 0x00000286A6429CD0>, 'id': 21, '成本': Decimal('30.0000000000'), '产品编号': 'C010', '产品规格': '50mg', 'update': datetime.datetime(2024, 4, 5, 7, 47, 15), '产品编号_子表': <models.Products object at 0x00000286A642ECF0>}\n",
      "{'_sa_instance_state': <sqlalchemy.orm.state.InstanceState object at 0x00000286A6429D30>, 'id': 22, '成本': Decimal('14.0000000000'), '产品编号': 'A008', '产品规格': '10mg', 'update': datetime.datetime(2024, 4, 5, 7, 47, 15), '产品编号_子表': <models.Products object at 0x00000286A6440680>}\n",
      "{'_sa_instance_state': <sqlalchemy.orm.state.InstanceState object at 0x00000286A6429D90>, 'id': 23, '成本': Decimal('8.0000000000'), '产品编号': 'A008', '产品规格': '5mg', 'update': datetime.datetime(2024, 4, 5, 7, 47, 15), '产品编号_子表': <models.Products object at 0x00000286A6440680>}\n",
      "{'_sa_instance_state': <sqlalchemy.orm.state.InstanceState object at 0x00000286A6429DF0>, 'id': 24, '成本': Decimal('10.0000000000'), '产品编号': 'A020', '产品规格': '2mg', 'update': datetime.datetime(2024, 4, 5, 7, 47, 15), '产品编号_子表': <models.Products object at 0x00000286A64406E0>}\n",
      "{'_sa_instance_state': <sqlalchemy.orm.state.InstanceState object at 0x00000286A6429E50>, 'id': 25, '成本': Decimal('28.0000000000'), '产品编号': 'G006', '产品规格': '5000iu', 'update': datetime.datetime(2024, 4, 5, 7, 47, 15), '产品编号_子表': <models.Products object at 0x00000286A64407D0>}\n",
      "{'_sa_instance_state': <sqlalchemy.orm.state.InstanceState object at 0x00000286A6429EB0>, 'id': 26, '成本': Decimal('8.0000000000'), '产品编号': 'A009', '产品规格': '5mg', 'update': datetime.datetime(2024, 4, 5, 7, 47, 15), '产品编号_子表': <models.Products object at 0x00000286A6440170>}\n",
      "{'_sa_instance_state': <sqlalchemy.orm.state.InstanceState object at 0x00000286A6429F10>, 'id': 27, '成本': Decimal('14.0000000000'), '产品编号': 'A009', '产品规格': '10mg', 'update': datetime.datetime(2024, 4, 5, 7, 47, 15), '产品编号_子表': <models.Products object at 0x00000286A6440170>}\n",
      "{'_sa_instance_state': <sqlalchemy.orm.state.InstanceState object at 0x00000286A6429F70>, 'id': 28, '成本': Decimal('30.0000000000'), '产品编号': 'A016', '产品规格': '5mg', 'update': datetime.datetime(2024, 4, 5, 7, 47, 15), '产品编号_子表': <models.Products object at 0x00000286A6440890>}\n",
      "{'_sa_instance_state': <sqlalchemy.orm.state.InstanceState object at 0x00000286A6429FD0>, 'id': 29, '成本': Decimal('12.0000000000'), '产品编号': 'A016', '产品规格': '2mg', 'update': datetime.datetime(2024, 4, 5, 7, 47, 15), '产品编号_子表': <models.Products object at 0x00000286A6440890>}\n",
      "{'_sa_instance_state': <sqlalchemy.orm.state.InstanceState object at 0x00000286A642A030>, 'id': 30, '成本': Decimal('40.0000000000'), '产品编号': 'G008', '产品规格': '10iu', 'update': datetime.datetime(2024, 4, 5, 7, 47, 15), '产品编号_子表': <models.Products object at 0x00000286A6440950>}\n",
      "{'_sa_instance_state': <sqlalchemy.orm.state.InstanceState object at 0x00000286A642A090>, 'id': 31, '成本': Decimal('20.0000000000'), '产品编号': 'G002', '产品规格': '10iu', 'update': datetime.datetime(2024, 4, 5, 7, 47, 15), '产品编号_子表': <models.Products object at 0x00000286A6440B00>}\n",
      "{'_sa_instance_state': <sqlalchemy.orm.state.InstanceState object at 0x00000286A642A0F0>, 'id': 32, '成本': Decimal('100.0000000000'), '产品编号': 'G010', '产品规格': '1mg', 'update': datetime.datetime(2024, 4, 5, 7, 47, 15), '产品编号_子表': <models.Products object at 0x00000286A6440BF0>}\n",
      "{'_sa_instance_state': <sqlalchemy.orm.state.InstanceState object at 0x00000286A642A150>, 'id': 33, '成本': Decimal('100.0000000000'), '产品编号': 'G001', '产品规格': '1mg', 'update': datetime.datetime(2024, 4, 5, 7, 47, 15), '产品编号_子表': <models.Products object at 0x00000286A6441070>}\n",
      "{'_sa_instance_state': <sqlalchemy.orm.state.InstanceState object at 0x00000286A642A1B0>, 'id': 34, '成本': Decimal('13.0000000000'), '产品编号': 'G001', '产品规格': '0.1', 'update': datetime.datetime(2024, 4, 5, 7, 47, 15), '产品编号_子表': <models.Products object at 0x00000286A6441070>}\n",
      "{'_sa_instance_state': <sqlalchemy.orm.state.InstanceState object at 0x00000286A642A210>, 'id': 35, '成本': Decimal('10.0000000000'), '产品编号': 'A010', '产品规格': '5mg', 'update': datetime.datetime(2024, 4, 5, 7, 47, 15), '产品编号_子表': <models.Products object at 0x00000286A642CE00>}\n",
      "{'_sa_instance_state': <sqlalchemy.orm.state.InstanceState object at 0x00000286A642A270>, 'id': 36, '成本': Decimal('25.0000000000'), '产品编号': 'A030', '产品规格': '10mg', 'update': datetime.datetime(2024, 4, 5, 7, 47, 15), '产品编号_子表': <models.Products object at 0x00000286A6441040>}\n",
      "{'_sa_instance_state': <sqlalchemy.orm.state.InstanceState object at 0x00000286A642A2D0>, 'id': 37, '成本': Decimal('10.0000000000'), '产品编号': 'A013', '产品规格': '2mg', 'update': datetime.datetime(2024, 4, 5, 7, 47, 15), '产品编号_子表': <models.Products object at 0x00000286A64401A0>}\n",
      "{'_sa_instance_state': <sqlalchemy.orm.state.InstanceState object at 0x00000286A642A330>, 'id': 38, '成本': Decimal('25.0000000000'), '产品编号': 'A005', '产品规格': '10mg', 'update': datetime.datetime(2024, 4, 5, 7, 47, 15), '产品编号_子表': <models.Products object at 0x00000286A64403E0>}\n",
      "{'_sa_instance_state': <sqlalchemy.orm.state.InstanceState object at 0x00000286A642A390>, 'id': 39, '成本': Decimal('20.0000000000'), '产品编号': 'A022', '产品规格': '10mg', 'update': datetime.datetime(2024, 4, 5, 7, 47, 16), '产品编号_子表': <models.Products object at 0x00000286A6440350>}\n",
      "{'_sa_instance_state': <sqlalchemy.orm.state.InstanceState object at 0x00000286A642A3F0>, 'id': 40, '成本': Decimal('25.0000000000'), '产品编号': 'A026', '产品规格': '10mg', 'update': datetime.datetime(2024, 4, 5, 7, 47, 16), '产品编号_子表': <models.Products object at 0x00000286A6440A10>}\n",
      "{'_sa_instance_state': <sqlalchemy.orm.state.InstanceState object at 0x00000286A642A450>, 'id': 41, '成本': Decimal('30.0000000000'), '产品编号': 'A012', '产品规格': '5mg', 'update': datetime.datetime(2024, 4, 5, 7, 47, 16), '产品编号_子表': <models.Products object at 0x00000286A642F050>}\n",
      "{'_sa_instance_state': <sqlalchemy.orm.state.InstanceState object at 0x00000286A642A4B0>, 'id': 42, '成本': Decimal('30.0000000000'), '产品编号': 'A014', '产品规格': '5mg', 'update': datetime.datetime(2024, 4, 5, 7, 47, 16), '产品编号_子表': <models.Products object at 0x00000286A64411C0>}\n",
      "{'_sa_instance_state': <sqlalchemy.orm.state.InstanceState object at 0x00000286A642A510>, 'id': 43, '成本': Decimal('50.0000000000'), '产品编号': 'A018', '产品规格': '5mg', 'update': datetime.datetime(2024, 4, 5, 7, 47, 16), '产品编号_子表': <models.Products object at 0x00000286A6440440>}\n",
      "{'_sa_instance_state': <sqlalchemy.orm.state.InstanceState object at 0x00000286A642A570>, 'id': 44, '成本': Decimal('70.0000000000'), '产品编号': 'L007', '产品规格': '5mg', 'update': datetime.datetime(2024, 4, 5, 7, 47, 16), '产品编号_子表': <models.Products object at 0x00000286A6441340>}\n",
      "{'_sa_instance_state': <sqlalchemy.orm.state.InstanceState object at 0x00000286A642A5D0>, 'id': 45, '成本': Decimal('150.0000000000'), '产品编号': 'L007', '产品规格': '10mg', 'update': datetime.datetime(2024, 4, 5, 7, 47, 16), '产品编号_子表': <models.Products object at 0x00000286A6441340>}\n",
      "{'_sa_instance_state': <sqlalchemy.orm.state.InstanceState object at 0x00000286A642A630>, 'id': 46, '成本': Decimal('25.0000000000'), '产品编号': 'A018', '产品规格': '2mg', 'update': datetime.datetime(2024, 4, 5, 7, 47, 16), '产品编号_子表': <models.Products object at 0x00000286A6440440>}\n",
      "{'_sa_instance_state': <sqlalchemy.orm.state.InstanceState object at 0x00000286A642A690>, 'id': 47, '成本': Decimal('60.0000000000'), '产品编号': 'A014', '产品规格': '10mg', 'update': datetime.datetime(2024, 4, 5, 7, 47, 16), '产品编号_子表': <models.Products object at 0x00000286A64411C0>}\n",
      "{'_sa_instance_state': <sqlalchemy.orm.state.InstanceState object at 0x00000286A642A6F0>, 'id': 48, '成本': Decimal('26.0000000000'), '产品编号': 'A015', '产品规格': '10mg', 'update': datetime.datetime(2024, 4, 5, 7, 47, 16), '产品编号_子表': <models.Products object at 0x00000286A642F320>}\n",
      "{'_sa_instance_state': <sqlalchemy.orm.state.InstanceState object at 0x00000286A642A750>, 'id': 49, '成本': Decimal('60.0000000000'), '产品编号': 'G007', '产品规格': '500mg', 'update': datetime.datetime(2024, 4, 7, 1, 5, 3), '产品编号_子表': <models.Products object at 0x00000286A642EA20>}\n",
      "{'_sa_instance_state': <sqlalchemy.orm.state.InstanceState object at 0x00000286A642A7B0>, 'id': 50, '成本': Decimal('25.0000000000'), '产品编号': 'G007', '产品规格': '250mg', 'update': datetime.datetime(2024, 4, 7, 1, 5, 3), '产品编号_子表': <models.Products object at 0x00000286A642EA20>}\n",
      "{'_sa_instance_state': <sqlalchemy.orm.state.InstanceState object at 0x00000286A642A810>, 'id': 51, '成本': Decimal('24.0000000000'), '产品编号': 'G007', '产品规格': '200mg', 'update': datetime.datetime(2024, 4, 7, 1, 5, 3), '产品编号_子表': <models.Products object at 0x00000286A642EA20>}\n",
      "{'_sa_instance_state': <sqlalchemy.orm.state.InstanceState object at 0x00000286A642A870>, 'id': 52, '成本': Decimal('12.0000000000'), '产品编号': 'G007', '产品规格': '100mg', 'update': datetime.datetime(2024, 4, 7, 1, 5, 3), '产品编号_子表': <models.Products object at 0x00000286A642EA20>}\n",
      "{'_sa_instance_state': <sqlalchemy.orm.state.InstanceState object at 0x00000286A642A8D0>, 'id': 53, '成本': Decimal('45.0000000000'), '产品编号': 'F003', '产品规格': '5mg', 'update': datetime.datetime(2024, 4, 7, 1, 5, 3), '产品编号_子表': <models.Products object at 0x00000286A642DEB0>}\n",
      "{'_sa_instance_state': <sqlalchemy.orm.state.InstanceState object at 0x00000286A642A930>, 'id': 54, '成本': Decimal('30.0000000000'), '产品编号': 'A003', '产品规格': '2mg', 'update': datetime.datetime(2024, 4, 7, 1, 5, 3), '产品编号_子表': <models.Products object at 0x00000286A642F2F0>}\n",
      "{'_sa_instance_state': <sqlalchemy.orm.state.InstanceState object at 0x00000286A642A990>, 'id': 55, '成本': Decimal('13.0000000000'), '产品编号': 'A004', '产品规格': '2mg', 'update': datetime.datetime(2024, 4, 7, 1, 5, 3), '产品编号_子表': <models.Products object at 0x00000286A642F380>}\n",
      "{'_sa_instance_state': <sqlalchemy.orm.state.InstanceState object at 0x00000286A642A9F0>, 'id': 56, '成本': Decimal('16.0000000000'), '产品编号': 'A007', '产品规格': '10mg', 'update': datetime.datetime(2024, 4, 7, 1, 5, 3), '产品编号_子表': <models.Products object at 0x00000286A642E9C0>}\n",
      "{'_sa_instance_state': <sqlalchemy.orm.state.InstanceState object at 0x00000286A642AA50>, 'id': 57, '成本': Decimal('5.0000000000'), '产品编号': 'A010', '产品规格': '2mg', 'update': datetime.datetime(2024, 4, 7, 1, 5, 3), '产品编号_子表': <models.Products object at 0x00000286A642CE00>}\n",
      "{'_sa_instance_state': <sqlalchemy.orm.state.InstanceState object at 0x00000286A642AAB0>, 'id': 58, '成本': Decimal('13.0000000000'), '产品编号': 'A012', '产品规格': '2mg', 'update': datetime.datetime(2024, 4, 7, 1, 5, 3), '产品编号_子表': <models.Products object at 0x00000286A642F050>}\n",
      "{'_sa_instance_state': <sqlalchemy.orm.state.InstanceState object at 0x00000286A642AB10>, 'id': 59, '成本': Decimal('45.0000000000'), '产品编号': 'A024', '产品规格': '5mg', 'update': datetime.datetime(2024, 4, 7, 1, 5, 3), '产品编号_子表': <models.Products object at 0x00000286A642C0E0>}\n",
      "{'_sa_instance_state': <sqlalchemy.orm.state.InstanceState object at 0x00000286A642AB70>, 'id': 60, '成本': Decimal('15.0000000000'), '产品编号': 'C010', '产品规格': '10mg', 'update': datetime.datetime(2024, 4, 7, 1, 5, 3), '产品编号_子表': <models.Products object at 0x00000286A642ECF0>}\n",
      "{'_sa_instance_state': <sqlalchemy.orm.state.InstanceState object at 0x00000286A642ABD0>, 'id': 61, '成本': Decimal('20.0000000000'), '产品编号': 'A024', '产品规格': '2mg', 'update': datetime.datetime(2024, 4, 7, 1, 5, 3), '产品编号_子表': <models.Products object at 0x00000286A642C0E0>}\n",
      "{'_sa_instance_state': <sqlalchemy.orm.state.InstanceState object at 0x00000286A642AC30>, 'id': 62, '成本': Decimal('13.0000000000'), '产品编号': 'A015', '产品规格': '5mg', 'update': datetime.datetime(2024, 4, 7, 1, 5, 3), '产品编号_子表': <models.Products object at 0x00000286A642F320>}\n",
      "{'_sa_instance_state': <sqlalchemy.orm.state.InstanceState object at 0x00000286A642AC90>, 'id': 63, '成本': Decimal('30.0000000000'), '产品编号': 'A004', '产品规格': '5mg', 'update': datetime.datetime(2024, 4, 7, 1, 5, 3), '产品编号_子表': <models.Products object at 0x00000286A642F380>}\n",
      "{'_sa_instance_state': <sqlalchemy.orm.state.InstanceState object at 0x00000286A642ACF0>, 'id': 64, '成本': Decimal('10.0000000000'), '产品编号': 'A021', '产品规格': '5mg', 'update': datetime.datetime(2024, 4, 7, 1, 5, 3), '产品编号_子表': <models.Products object at 0x00000286A6440200>}\n",
      "{'_sa_instance_state': <sqlalchemy.orm.state.InstanceState object at 0x00000286A642AD50>, 'id': 65, '成本': Decimal('11.0000000000'), '产品编号': 'B024', '产品规格': '10mg', 'update': datetime.datetime(2024, 4, 7, 1, 5, 3), '产品编号_子表': <models.Products object at 0x00000286A6440410>}\n",
      "{'_sa_instance_state': <sqlalchemy.orm.state.InstanceState object at 0x00000286A642ADB0>, 'id': 66, '成本': Decimal('55.0000000000'), '产品编号': 'B024', '产品规格': '50mg', 'update': datetime.datetime(2024, 4, 7, 1, 5, 3), '产品编号_子表': <models.Products object at 0x00000286A6440410>}\n",
      "{'_sa_instance_state': <sqlalchemy.orm.state.InstanceState object at 0x00000286A642AE10>, 'id': 67, '成本': Decimal('30.0000000000'), '产品编号': 'C010', '产品规格': '50mg', 'update': datetime.datetime(2024, 4, 7, 1, 5, 3), '产品编号_子表': <models.Products object at 0x00000286A642ECF0>}\n",
      "{'_sa_instance_state': <sqlalchemy.orm.state.InstanceState object at 0x00000286A642AE70>, 'id': 68, '成本': Decimal('14.0000000000'), '产品编号': 'A008', '产品规格': '10mg', 'update': datetime.datetime(2024, 4, 7, 1, 5, 3), '产品编号_子表': <models.Products object at 0x00000286A6440680>}\n",
      "{'_sa_instance_state': <sqlalchemy.orm.state.InstanceState object at 0x00000286A642AED0>, 'id': 69, '成本': Decimal('8.0000000000'), '产品编号': 'A008', '产品规格': '5mg', 'update': datetime.datetime(2024, 4, 7, 1, 5, 3), '产品编号_子表': <models.Products object at 0x00000286A6440680>}\n",
      "{'_sa_instance_state': <sqlalchemy.orm.state.InstanceState object at 0x00000286A642AF30>, 'id': 70, '成本': Decimal('10.0000000000'), '产品编号': 'A020', '产品规格': '2mg', 'update': datetime.datetime(2024, 4, 7, 1, 5, 3), '产品编号_子表': <models.Products object at 0x00000286A64406E0>}\n",
      "{'_sa_instance_state': <sqlalchemy.orm.state.InstanceState object at 0x00000286A642AF90>, 'id': 71, '成本': Decimal('28.0000000000'), '产品编号': 'G006', '产品规格': '5000iu', 'update': datetime.datetime(2024, 4, 7, 1, 5, 3), '产品编号_子表': <models.Products object at 0x00000286A64407D0>}\n",
      "{'_sa_instance_state': <sqlalchemy.orm.state.InstanceState object at 0x00000286A642AFF0>, 'id': 72, '成本': Decimal('8.0000000000'), '产品编号': 'A009', '产品规格': '5mg', 'update': datetime.datetime(2024, 4, 7, 1, 5, 3), '产品编号_子表': <models.Products object at 0x00000286A6440170>}\n",
      "{'_sa_instance_state': <sqlalchemy.orm.state.InstanceState object at 0x00000286A642B050>, 'id': 73, '成本': Decimal('14.0000000000'), '产品编号': 'A009', '产品规格': '10mg', 'update': datetime.datetime(2024, 4, 7, 1, 5, 3), '产品编号_子表': <models.Products object at 0x00000286A6440170>}\n",
      "{'_sa_instance_state': <sqlalchemy.orm.state.InstanceState object at 0x00000286A642B0B0>, 'id': 74, '成本': Decimal('30.0000000000'), '产品编号': 'A016', '产品规格': '5mg', 'update': datetime.datetime(2024, 4, 7, 1, 5, 3), '产品编号_子表': <models.Products object at 0x00000286A6440890>}\n",
      "{'_sa_instance_state': <sqlalchemy.orm.state.InstanceState object at 0x00000286A642B110>, 'id': 75, '成本': Decimal('12.0000000000'), '产品编号': 'A016', '产品规格': '2mg', 'update': datetime.datetime(2024, 4, 7, 1, 5, 3), '产品编号_子表': <models.Products object at 0x00000286A6440890>}\n",
      "{'_sa_instance_state': <sqlalchemy.orm.state.InstanceState object at 0x00000286A642B170>, 'id': 76, '成本': Decimal('40.0000000000'), '产品编号': 'G008', '产品规格': '10iu', 'update': datetime.datetime(2024, 4, 7, 1, 5, 3), '产品编号_子表': <models.Products object at 0x00000286A6440950>}\n",
      "{'_sa_instance_state': <sqlalchemy.orm.state.InstanceState object at 0x00000286A642B1D0>, 'id': 77, '成本': Decimal('20.0000000000'), '产品编号': 'G002', '产品规格': '10iu', 'update': datetime.datetime(2024, 4, 7, 1, 5, 3), '产品编号_子表': <models.Products object at 0x00000286A6440B00>}\n",
      "{'_sa_instance_state': <sqlalchemy.orm.state.InstanceState object at 0x00000286A642B230>, 'id': 78, '成本': Decimal('100.0000000000'), '产品编号': 'G010', '产品规格': '1mg', 'update': datetime.datetime(2024, 4, 7, 1, 5, 3), '产品编号_子表': <models.Products object at 0x00000286A6440BF0>}\n",
      "{'_sa_instance_state': <sqlalchemy.orm.state.InstanceState object at 0x00000286A642B290>, 'id': 79, '成本': Decimal('100.0000000000'), '产品编号': 'G001', '产品规格': '1mg', 'update': datetime.datetime(2024, 4, 7, 1, 5, 3), '产品编号_子表': <models.Products object at 0x00000286A6441070>}\n",
      "{'_sa_instance_state': <sqlalchemy.orm.state.InstanceState object at 0x00000286A642B2F0>, 'id': 80, '成本': Decimal('13.0000000000'), '产品编号': 'G001', '产品规格': '0.1', 'update': datetime.datetime(2024, 4, 7, 1, 5, 3), '产品编号_子表': <models.Products object at 0x00000286A6441070>}\n",
      "{'_sa_instance_state': <sqlalchemy.orm.state.InstanceState object at 0x00000286A642B350>, 'id': 81, '成本': Decimal('10.0000000000'), '产品编号': 'A010', '产品规格': '5mg', 'update': datetime.datetime(2024, 4, 7, 1, 5, 3), '产品编号_子表': <models.Products object at 0x00000286A642CE00>}\n",
      "{'_sa_instance_state': <sqlalchemy.orm.state.InstanceState object at 0x00000286A642B3B0>, 'id': 82, '成本': Decimal('25.0000000000'), '产品编号': 'A030', '产品规格': '10mg', 'update': datetime.datetime(2024, 4, 7, 1, 5, 3), '产品编号_子表': <models.Products object at 0x00000286A6441040>}\n",
      "{'_sa_instance_state': <sqlalchemy.orm.state.InstanceState object at 0x00000286A642B410>, 'id': 83, '成本': Decimal('10.0000000000'), '产品编号': 'A013', '产品规格': '2mg', 'update': datetime.datetime(2024, 4, 7, 1, 5, 3), '产品编号_子表': <models.Products object at 0x00000286A64401A0>}\n",
      "{'_sa_instance_state': <sqlalchemy.orm.state.InstanceState object at 0x00000286A642B470>, 'id': 84, '成本': Decimal('25.0000000000'), '产品编号': 'A005', '产品规格': '10mg', 'update': datetime.datetime(2024, 4, 7, 1, 5, 3), '产品编号_子表': <models.Products object at 0x00000286A64403E0>}\n",
      "{'_sa_instance_state': <sqlalchemy.orm.state.InstanceState object at 0x00000286A642B4D0>, 'id': 85, '成本': Decimal('20.0000000000'), '产品编号': 'A022', '产品规格': '10mg', 'update': datetime.datetime(2024, 4, 7, 1, 5, 3), '产品编号_子表': <models.Products object at 0x00000286A6440350>}\n",
      "{'_sa_instance_state': <sqlalchemy.orm.state.InstanceState object at 0x00000286A642B530>, 'id': 86, '成本': Decimal('25.0000000000'), '产品编号': 'A026', '产品规格': '10mg', 'update': datetime.datetime(2024, 4, 7, 1, 5, 3), '产品编号_子表': <models.Products object at 0x00000286A6440A10>}\n",
      "{'_sa_instance_state': <sqlalchemy.orm.state.InstanceState object at 0x00000286A642B590>, 'id': 87, '成本': Decimal('30.0000000000'), '产品编号': 'A012', '产品规格': '5mg', 'update': datetime.datetime(2024, 4, 7, 1, 5, 3), '产品编号_子表': <models.Products object at 0x00000286A642F050>}\n",
      "{'_sa_instance_state': <sqlalchemy.orm.state.InstanceState object at 0x00000286A642B5F0>, 'id': 88, '成本': Decimal('30.0000000000'), '产品编号': 'A014', '产品规格': '5mg', 'update': datetime.datetime(2024, 4, 7, 1, 5, 3), '产品编号_子表': <models.Products object at 0x00000286A64411C0>}\n",
      "{'_sa_instance_state': <sqlalchemy.orm.state.InstanceState object at 0x00000286A642B650>, 'id': 89, '成本': Decimal('50.0000000000'), '产品编号': 'A018', '产品规格': '5mg', 'update': datetime.datetime(2024, 4, 7, 1, 5, 3), '产品编号_子表': <models.Products object at 0x00000286A6440440>}\n",
      "{'_sa_instance_state': <sqlalchemy.orm.state.InstanceState object at 0x00000286A642B6B0>, 'id': 90, '成本': Decimal('70.0000000000'), '产品编号': 'L007', '产品规格': '5mg', 'update': datetime.datetime(2024, 4, 7, 1, 5, 3), '产品编号_子表': <models.Products object at 0x00000286A6441340>}\n",
      "{'_sa_instance_state': <sqlalchemy.orm.state.InstanceState object at 0x00000286A642B710>, 'id': 91, '成本': Decimal('150.0000000000'), '产品编号': 'L007', '产品规格': '10mg', 'update': datetime.datetime(2024, 4, 7, 1, 5, 3), '产品编号_子表': <models.Products object at 0x00000286A6441340>}\n",
      "{'_sa_instance_state': <sqlalchemy.orm.state.InstanceState object at 0x00000286A642B770>, 'id': 92, '成本': Decimal('25.0000000000'), '产品编号': 'A018', '产品规格': '2mg', 'update': datetime.datetime(2024, 4, 7, 1, 5, 3), '产品编号_子表': <models.Products object at 0x00000286A6440440>}\n",
      "{'_sa_instance_state': <sqlalchemy.orm.state.InstanceState object at 0x00000286A642B7D0>, 'id': 93, '成本': Decimal('60.0000000000'), '产品编号': 'A014', '产品规格': '10mg', 'update': datetime.datetime(2024, 4, 7, 1, 5, 3), '产品编号_子表': <models.Products object at 0x00000286A64411C0>}\n",
      "{'_sa_instance_state': <sqlalchemy.orm.state.InstanceState object at 0x00000286A642B830>, 'id': 94, '成本': Decimal('26.0000000000'), '产品编号': 'A015', '产品规格': '10mg', 'update': datetime.datetime(2024, 4, 7, 1, 5, 3), '产品编号_子表': <models.Products object at 0x00000286A642F320>}\n"
     ]
    }
   ],
   "source": [
    "for i in result:\n",
    "    print(i.__dict__)"
   ]
  },
  {
   "cell_type": "code",
   "execution_count": 5,
   "metadata": {},
   "outputs": [],
   "source": [
    "result = db.execute(stmt).all()"
   ]
  },
  {
   "cell_type": "code",
   "execution_count": 6,
   "metadata": {},
   "outputs": [
    {
     "data": {
      "text/plain": [
       "1"
      ]
     },
     "execution_count": 6,
     "metadata": {},
     "output_type": "execute_result"
    }
   ],
   "source": [
    "len(result)"
   ]
  },
  {
   "cell_type": "code",
   "execution_count": 7,
   "metadata": {},
   "outputs": [
    {
     "name": "stdout",
     "output_type": "stream",
     "text": [
      "<models.Products object at 0x00000286A63DAA50> (<models.Products object at 0x00000286A63DAA50>,)\n"
     ]
    }
   ],
   "source": [
    "for i in result:\n",
    "    print(i[0],i)"
   ]
  },
  {
   "cell_type": "code",
   "execution_count": 18,
   "metadata": {},
   "outputs": [],
   "source": [
    "def strip_series(series):\n",
    "    ###Loop over items of pandas series and move their blank space in head and tail\n",
    "    for i in range(len(series)):\n",
    "        if type(series.iloc[i]) == str:\n",
    "            series.iloc[i] = series.iloc[i].strip()"
   ]
  },
  {
   "cell_type": "code",
   "execution_count": 10,
   "metadata": {},
   "outputs": [
    {
     "name": "stdout",
     "output_type": "stream",
     "text": [
      "A012 ('A012', 'Sermorelin\\xa0(GRF1-29)', 'Peptide', True)\n",
      "A012 ('A012', 'Sermorelin\\xa0(GRF1-29)', 'Peptide', True)\n",
      "A012 ('A012', 'Sermorelin\\xa0(GRF1-29)', 'Peptide', True)\n",
      "A012 ('A012', 'Sermorelin\\xa0(GRF1-29)', 'Peptide', True)\n"
     ]
    }
   ],
   "source": [
    "for i in result:\n",
    "    print(i[0],i)"
   ]
  },
  {
   "cell_type": "markdown",
   "metadata": {},
   "source": []
  },
  {
   "cell_type": "code",
   "execution_count": null,
   "metadata": {},
   "outputs": [],
   "source": []
  }
 ],
 "metadata": {
  "kernelspec": {
   "display_name": "base",
   "language": "python",
   "name": "python3"
  },
  "language_info": {
   "codemirror_mode": {
    "name": "ipython",
    "version": 3
   },
   "file_extension": ".py",
   "mimetype": "text/x-python",
   "name": "python",
   "nbconvert_exporter": "python",
   "pygments_lexer": "ipython3",
   "version": "3.12.1"
  }
 },
 "nbformat": 4,
 "nbformat_minor": 2
}
