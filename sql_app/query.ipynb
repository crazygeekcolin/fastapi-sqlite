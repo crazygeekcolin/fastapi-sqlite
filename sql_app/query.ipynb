{
 "cells": [
  {
   "cell_type": "code",
   "execution_count": 1,
   "metadata": {},
   "outputs": [],
   "source": [
    "from database import SessionLocal, engine\n",
    "from sqlalchemy import text, select\n",
    "#import models, schemas\n",
    "from models import *\n",
    "import pandas as pd\n",
    "import json"
   ]
  },
  {
   "cell_type": "code",
   "execution_count": 2,
   "metadata": {},
   "outputs": [],
   "source": [
    "db= SessionLocal()"
   ]
  },
  {
   "cell_type": "code",
   "execution_count": 79,
   "metadata": {},
   "outputs": [],
   "source": [
    "text = '141'"
   ]
  },
  {
   "cell_type": "code",
   "execution_count": 84,
   "metadata": {},
   "outputs": [],
   "source": [
    "stmt = select(Products).filter(Products.产品名称.like(f'%{text}%'))"
   ]
  },
  {
   "cell_type": "code",
   "execution_count": 4,
   "metadata": {},
   "outputs": [],
   "source": [
    "stmt = select(ProductsCost.产品编号, ProductsCost.产品规格, ProductsCost.成本, Products.产品名称).join(Products)\n"
   ]
  },
  {
   "cell_type": "code",
   "execution_count": 51,
   "metadata": {},
   "outputs": [],
   "source": [
    "stmt = select(Products.产品编号\n",
    "              , Products.产品名称\n",
    "              , Products.产品类别\n",
    "              , #Products.产品成本记录).join(ProductsCost).filter(Products.产品名称 == 'Sermorelin\\xa0(GRF1-29)')\n",
    "              Products.产品成本记录).join(ProductsCost).filter(Products.产品名称.like('A'))\n"
   ]
  },
  {
   "cell_type": "code",
   "execution_count": null,
   "metadata": {},
   "outputs": [],
   "source": []
  },
  {
   "cell_type": "code",
   "execution_count": 85,
   "metadata": {},
   "outputs": [],
   "source": [
    "result = db.execute(stmt).all()"
   ]
  },
  {
   "cell_type": "code",
   "execution_count": 86,
   "metadata": {},
   "outputs": [
    {
     "data": {
      "text/plain": [
       "1"
      ]
     },
     "execution_count": 86,
     "metadata": {},
     "output_type": "execute_result"
    }
   ],
   "source": [
    "len(result)"
   ]
  },
  {
   "cell_type": "code",
   "execution_count": 87,
   "metadata": {},
   "outputs": [
    {
     "name": "stdout",
     "output_type": "stream",
     "text": [
      "<models.Products object at 0x00000219C04FD5E0> (<models.Products object at 0x00000219C04FD5E0>,)\n"
     ]
    }
   ],
   "source": [
    "for i in result:\n",
    "    print(i[0],i)"
   ]
  },
  {
   "cell_type": "code",
   "execution_count": 18,
   "metadata": {},
   "outputs": [],
   "source": [
    "def strip_series(series):\n",
    "    ###Loop over items of pandas series and move their blank space in head and tail\n",
    "    for i in range(len(series)):\n",
    "        if type(series.iloc[i]) == str:\n",
    "            series.iloc[i] = series.iloc[i].strip()"
   ]
  },
  {
   "cell_type": "code",
   "execution_count": 10,
   "metadata": {},
   "outputs": [
    {
     "name": "stdout",
     "output_type": "stream",
     "text": [
      "A012 ('A012', 'Sermorelin\\xa0(GRF1-29)', 'Peptide', True)\n",
      "A012 ('A012', 'Sermorelin\\xa0(GRF1-29)', 'Peptide', True)\n",
      "A012 ('A012', 'Sermorelin\\xa0(GRF1-29)', 'Peptide', True)\n",
      "A012 ('A012', 'Sermorelin\\xa0(GRF1-29)', 'Peptide', True)\n"
     ]
    }
   ],
   "source": [
    "for i in result:\n",
    "    print(i[0],i)"
   ]
  },
  {
   "cell_type": "markdown",
   "metadata": {},
   "source": []
  },
  {
   "cell_type": "code",
   "execution_count": null,
   "metadata": {},
   "outputs": [],
   "source": []
  }
 ],
 "metadata": {
  "kernelspec": {
   "display_name": "base",
   "language": "python",
   "name": "python3"
  },
  "language_info": {
   "codemirror_mode": {
    "name": "ipython",
    "version": 3
   },
   "file_extension": ".py",
   "mimetype": "text/x-python",
   "name": "python",
   "nbconvert_exporter": "python",
   "pygments_lexer": "ipython3",
   "version": "3.12.1"
  }
 },
 "nbformat": 4,
 "nbformat_minor": 2
}
